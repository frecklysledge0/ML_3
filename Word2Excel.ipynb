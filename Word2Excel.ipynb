{
 "cells": [
  {
   "cell_type": "code",
   "execution_count": 1,
   "id": "aef97bb0",
   "metadata": {},
   "outputs": [
    {
     "name": "stdout",
     "output_type": "stream",
     "text": [
      "Skipping unrecognized line: Audio file\n",
      "Skipping unrecognized line: Transcript\n",
      "Data has been exported to C:\\Users\\rohit\\Downloads\\transcript_output1211212.xlsx\n"
     ]
    }
   ],
   "source": [
    "import re\n",
    "import pandas as pd\n",
    "from docx import Document\n",
    "\n",
    "def process_transcript_from_word(file_path):\n",
    "    doc = Document(file_path)\n",
    "    data = []\n",
    "    timestamp = None\n",
    "    speaker = None\n",
    "    team_label = None\n",
    "\n",
    "    timestamp_speaker_pattern = re.compile(r'(\\d{2}:\\d{2}:\\d{2})\\s+(Speaker \\d+)')\n",
    "    for para in doc.paragraphs:\n",
    "        line = para.text.strip()\n",
    "        if not line:\n",
    "            continue  \n",
    "        if line.lower().startswith(\"team\"):\n",
    "            team_label = line\n",
    "            data.append([\"\", \"\", \"\", team_label]) \n",
    "            continue\n",
    "        match = timestamp_speaker_pattern.match(line)\n",
    "        if match:\n",
    "            timestamp = match.group(1)  \n",
    "            speaker = match.group(2)  \n",
    "        elif timestamp and speaker:\n",
    "            text = line.strip()\n",
    "            if text:  \n",
    "                data.append([timestamp, speaker, text, team_label])\n",
    "        else:\n",
    "            print(f\"Skipping unrecognized line: {line}\")\n",
    "    df = pd.DataFrame(data, columns=['Timestamp', 'Speaker', 'Text', 'Team'])\n",
    "    return df\n",
    "def export_to_excel(df, output_file):\n",
    "    if not df.empty:\n",
    "        df.to_excel(output_file, index=False)\n",
    "        print(f\"Data has been exported to {output_file}\")\n",
    "    else:\n",
    "        print(\"No data found to export.\")\n",
    "file_path = r'C:\\Users\\rohit\\Downloads\\Document.docx'  \n",
    "output_file = r'C:\\Users\\rohit\\Downloads\\transcript_output1211212.xlsx'  \n",
    "df = process_transcript_from_word(file_path)\n",
    "export_to_excel(df, output_file)\n"
   ]
  },
  {
   "cell_type": "code",
   "execution_count": 7,
   "id": "8028fc52",
   "metadata": {},
   "outputs": [
    {
     "name": "stdout",
     "output_type": "stream",
     "text": [
      "Classified data has been exported to test1.xlsx\n"
     ]
    }
   ],
   "source": [
    "import pandas as pd\n",
    "file_path = r'1.xlsx'  \n",
    "df = pd.read_excel(file_path)\n",
    "\n",
    "def identify_question(text):\n",
    "    if isinstance(text, str):\n",
    "        text = text.strip()\n",
    "        \n",
    "        if text.endswith('?'):\n",
    "            return 'Question'\n",
    "        question_words = ('what', 'why', 'how', 'is', 'are', 'was', 'were', 'do', 'does', 'did', 'can', 'could', 'would', 'should')\n",
    "        if text.lower().startswith(question_words):\n",
    "            return 'Question'\n",
    "    return ''\n",
    "df['Type'] = df['Text'].apply(identify_question)\n",
    "output_file = r'test1.xlsx'  \n",
    "df.to_excel(output_file, index=False)\n",
    "print(f\"Classified data has been exported to {output_file}\")\n"
   ]
  },
  {
   "cell_type": "code",
   "execution_count": null,
   "id": "66589215",
   "metadata": {},
   "outputs": [],
   "source": []
  }
 ],
 "metadata": {
  "kernelspec": {
   "display_name": "Python 3 (ipykernel)",
   "language": "python",
   "name": "python3"
  },
  "language_info": {
   "codemirror_mode": {
    "name": "ipython",
    "version": 3
   },
   "file_extension": ".py",
   "mimetype": "text/x-python",
   "name": "python",
   "nbconvert_exporter": "python",
   "pygments_lexer": "ipython3",
   "version": "3.11.4"
  }
 },
 "nbformat": 4,
 "nbformat_minor": 5
}
